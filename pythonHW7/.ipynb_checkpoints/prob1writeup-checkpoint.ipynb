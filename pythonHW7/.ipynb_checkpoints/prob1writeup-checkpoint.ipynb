{
 "cells": [
  {
   "cell_type": "code",
   "execution_count": 4,
   "id": "1ca26b1f",
   "metadata": {},
   "outputs": [
    {
     "name": "stdout",
     "output_type": "stream",
     "text": [
      "Name: Dorien Penebacker\n",
      "Github Username: dpenebac\n",
      "Purdue Username: 0031694522\n",
      "Instructor: iforget\n",
      "\n",
      "Problem1 Writeup\n",
      "\n",
      "\u001b[4mEstimated Functions:\u001b[0m\n",
      "\n",
      "y₁ = 21.992x  + 92.705\n",
      "y₂ = -1.158x² + 22.608x  + 100.799\n",
      "y₃ =  1.667x³ + -1.193x² +  0.396x  + 100.437\n",
      "y₄ = -0.014x⁴ +  1.668x³ + -0.906x² +  0.339x  + 99.762\n",
      "y₅ = -0.023x⁵ + -0.020x⁴ +  2.274x³ + -0.864x² + -2.660x  + 99.414\n",
      "\n",
      "\u001b[4mData Visualization:\u001b[0m\n",
      "\n"
     ]
    },
    {
     "data": {
      "image/png": "[encoded data removed]",
      "text/plain": [
       "<Figure size 432x288 with 1 Axes>"
      ]
     },
     "metadata": {
      "needs_background": "light"
     },
     "output_type": "display_data"
    },
    {
     "name": "stdout",
     "output_type": "stream",
     "text": [
      "The data seems to best follow a third order polynomial (ie a cubic function) which can be seen from the low error between    the estimated regression function y3(x), y4(x), and y5(x).\n",
      "To make sure that we do not overfit the data points, we use y(3) as our model.\n",
      "If we measured a new data point, x = 2, the corresponding predicted value would be.\n"
     ]
    }
   ],
   "source": [
    "from polyfit import *\n",
    "import matplotlib.pyplot as plt\n",
    "import numpy as np\n",
    "import pandas as pd\n",
    "\n",
    "def upper(x, m): #function for superscript\n",
    "    x = m - x\n",
    "    x = x + 1\n",
    "    if x == 1:\n",
    "        return(\"\")\n",
    "    elif x == 2:\n",
    "        return(\"\\u00B2\")\n",
    "    elif x == 3:\n",
    "        return(\"\\u00B3\")\n",
    "    else:\n",
    "        return(chr(ord(\"\\u2070\") + x))\n",
    "\n",
    "def upper2num(s):\n",
    "    if s == \"\\u2075\":\n",
    "        return(\"** 5\")\n",
    "    elif s == \"\\u2074\":\n",
    "        return(\"** 4\")\n",
    "    elif s == \"\\u00B2\":\n",
    "        return(\"** 2\")\n",
    "    elif s == \"\\u00B3\":\n",
    "        return(\"** 3\")\n",
    "    else:\n",
    "        return(\"\")\n",
    "\n",
    "paramFits = main(\"poly.txt\", [1, 2, 3, 4, 5])\n",
    "subscript = \"\\u2081\"\n",
    "data = pd.read_csv(\"poly.txt\", sep = \" \", header = None)\n",
    "data.columns = [\"x\", \"y\"]\n",
    "print(\"Name: Dorien Penebacker\")\n",
    "print(\"Github Username: dpenebac\")\n",
    "print(\"Purdue Username: 0031694522\")\n",
    "print(\"Instructor: iforget\")\n",
    "print(\"\\nProblem1 Writeup\")\n",
    "print(\"\\n\\033[4mEstimated Functions:\\033[0m\\n\")\n",
    "\n",
    "yl = []\n",
    "for i in range(5):\n",
    "    print(\"y\" + chr(ord(subscript) + i), sep = '', end = ' = ')\n",
    "    y = '' #reset value for each y\n",
    "    ey = '' #evaluate formula for y\n",
    "    for j in range(0, len(paramFits[i]) - 1):\n",
    "        y += (\"{:.3f}\".format(paramFits[i][j])).rjust(6) + \"x\" + upper(j, i)\n",
    "        ey += str(paramFits[i][j]) + \"*(x\" + \"**\" + str(i - j + 1) + \")\"\n",
    "        if (j != i):\n",
    "            y += \" + \"\n",
    "            ey += \"+\"\n",
    "    y += (\"  + \" + (\"{:.3f}\".format(paramFits[i][j + 1])).rjust(6))\n",
    "    ey += \"+\" + str(paramFits[i][j + 1])\n",
    "    print(y)\n",
    "    yl.append(ey)\n",
    "\n",
    "x = np.linspace(min(data.x), max(data.x), len(data.x))\n",
    "i = 1\n",
    "for ey in yl:\n",
    "    plt.plot(x, eval(ey), linewidth = 3, label = \"d = \" + str(i))\n",
    "    i += 1\n",
    "#plt.plot(x, 1.667 * x ** 3 + -1.193 * x ** 2 +  0.396 * x  + 100.437)\n",
    "#plt.plot(x, -0.014 * x ** 4 +  1.668 * x ** 3  -0.906 * x ** 2 +  0.339 * x  + 99.762)    \n",
    "#plt.plot(x, -0.023 * x ** 5  -0.020 * x ** 4 +  2.274 * x ** 3  -0.864 * x ** 2  -2.660 * x  + 99.414)\n",
    "plt.scatter(data.x, data.y, color='black', label = \"data\")\n",
    "plt.legend()\n",
    "print(\"\\n\\033[4mData Visualization:\\033[0m\\n\")\n",
    "plt.show()\n",
    "\n",
    "print(\"The data seems to best follow a third order polynomial (ie a cubic function) which can be seen from the low error between    the estimated regression function and y3(x), y4(x), and y5(x).\")\n",
    "print(\"To make sure that we do not overfit the data points, we use y(3) as our model.\")\n",
    "print(\"If we measured a new data point, x = 2, the corresponding predicted value would be\" + yl[3][2])"
   ]
  },
  {
   "cell_type": "code",
   "execution_count": null,
   "id": "fd201349",
   "metadata": {},
   "outputs": [],
   "source": []
  }
 ],
 "metadata": {
  "interpreter": {
   "hash": "74c33e9d5d7841e4e70f9eb5b31e308c5b06a41f38f3adcf7bb706218ee2a701"
  },
  "kernelspec": {
   "display_name": "Python 3 (ipykernel)",
   "language": "python",
   "name": "python3"
  },
  "language_info": {
   "codemirror_mode": {
    "name": "ipython",
    "version": 3
   },
   "file_extension": ".py",
   "mimetype": "text/x-python",
   "name": "python",
   "nbconvert_exporter": "python",
   "pygments_lexer": "ipython3",
   "version": "3.9.6"
  }
 },
 "nbformat": 4,
 "nbformat_minor": 5
}
