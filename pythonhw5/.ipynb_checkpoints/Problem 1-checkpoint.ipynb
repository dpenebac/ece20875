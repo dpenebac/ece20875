{
 "cells": [
  {
   "cell_type": "code",
   "execution_count": 1,
   "id": "5b27a6db",
   "metadata": {},
   "outputs": [
    {
     "name": "stdout",
     "output_type": "stream",
     "text": [
      "Engagement 1:\n",
      "size: 937\n",
      "mean: 0.7430304110448239\n",
      "standard deviation: 0.12712605795317614\n",
      "standard error:  0.004153027288269652\n",
      "z score: -1.6781948375012814\n",
      "pscore:  0.09330906925243751\n",
      "\n"
     ]
    },
    {
     "data": {
      "text/plain": [
       "[<matplotlib.lines.Line2D at 0x17b7fc05c70>]"
      ]
     },
     "execution_count": 1,
     "metadata": {},
     "output_type": "execute_result"
    },
    {
     "data": {
      "image/png": "[encoded data removed]",
      "text/plain": [
       "<Figure size 432x288 with 1 Axes>"
      ]
     },
     "metadata": {
      "needs_background": "light"
     },
     "output_type": "display_data"
    }
   ],
   "source": [
    "import numpy as np\n",
    "import scipy.stats as stats\n",
    "import matplotlib.pyplot as plt\n",
    "\n",
    "#Problem 1\n",
    "#Null Hypothesis: \n",
    "#The mean engagement of students who are knowledgeable in the material is 0.75\n",
    "#or\n",
    "#mean = 0.75\n",
    "#\n",
    "#Alternative Hypothesis: The mean engagement of students who are knowledgeable in the material is not 0.75\n",
    "#or\n",
    "#mean != 0.75\n",
    "#\n",
    "#Can use z-test since n > 30 and we can find the standard deviation\n",
    "\n",
    "f = open('engagement_1.txt')\n",
    "data1 = f.readlines()\n",
    "f.close()\n",
    "\n",
    "data1 = [float(x) for x in data1] #data in list form\n",
    "mu1 = 0.75 #hypothesis/population mean\n",
    "size1 = len(data1) #sample size\n",
    "mean1 = np.mean(data1) #sample mean\n",
    "sd1 = np.std(data1, ddof = 1) #standard deviation\n",
    "se1 = sd1 / (np.sqrt(size1)) #standard error\n",
    "z1 = (mean1 - mu1) / se1 #zscore\n",
    "p1 = 2 * stats.norm.cdf(-abs(z1)) #pscore\n",
    "\n",
    "print(\"Engagement 1:\")\n",
    "print(\"size:\", size1)\n",
    "print(\"mean:\", mean1)\n",
    "print(\"standard deviation:\", sd1)\n",
    "print(\"standard error: \", se1)\n",
    "print(\"z score:\",z1)\n",
    "print(\"pscore: \", p1)\n",
    "print()\n",
    "plt.plot(np.arange(-6, 6, 0.01), stats.norm.pdf(np.arange(-6, 6, 0.01),0, 1))\n",
    "plt.plot(z1, 0, marker = 'o')\n",
    "\n",
    "#The results are significant at a significance level of 0.1. \n",
    "#Since at a significance level of 0.1, p < 0.1, which means we reject the null hypothesis. \n",
    "#This means we can conclude that the mean engagement of the students that are passing is not equal to 0.75."
   ]
  },
  {
   "cell_type": "code",
   "execution_count": 2,
   "id": "d747924f",
   "metadata": {},
   "outputs": [
    {
     "name": "stdout",
     "output_type": "stream",
     "text": [
      "largest standard error:  0.003555027288269573\n",
      "z score: -1.9604881735151343\n",
      "pscore:  0.049938758944982994\n"
     ]
    }
   ],
   "source": [
    "while (p1 > 0.05):\n",
    "    se1 = se1 - 0.000001\n",
    "    z1 = (mean1 - mu1) / se1 #zscore\n",
    "    p1 = 2 * stats.norm.cdf(-abs(z1)) #pscore\n",
    "    \n",
    "print(\"largest standard error: \", se1)\n",
    "print(\"z score:\",z1)\n",
    "print(\"pscore: \", p1)\n",
    "#The largest standard error for which the test will be significant at a level of 0.05 would be a standard error of 0.003555027"
   ]
  },
  {
   "cell_type": "code",
   "execution_count": 18,
   "id": "d52b2884",
   "metadata": {},
   "outputs": [
    {
     "name": "stdout",
     "output_type": "stream",
     "text": [
      "Engagement 1:\n",
      "size: 937\n",
      "mean: 0.7430304110448239\n",
      "standard deviation: 0.12712605795317614\n",
      "\n",
      "Engagement 0:\n",
      "size: 1977\n",
      "mean: 0.6399545077035914\n",
      "standard deviation: 0.2541527210309046\n",
      "\n",
      "Two-sample z-test:\n",
      "Total Sizes: 2914\n",
      "Total Mean: 0.10307590334123251\n",
      "Total Standard Deviation: 0.007065420910043284\n",
      "Total Standard Error: 0.00013088602112959534\n",
      "Zscore: 14.588784540028351\n",
      "Pscore: 3.3104307168195455e-48\n"
     ]
    },
    {
     "data": {
      "text/plain": [
       "[<matplotlib.lines.Line2D at 0x17b7ffe07f0>]"
      ]
     },
     "execution_count": 18,
     "metadata": {},
     "output_type": "execute_result"
    },
    {
     "data": {
      "image/png": "[encoded data removed]",
      "text/plain": [
       "<Figure size 432x288 with 1 Axes>"
      ]
     },
     "metadata": {
      "needs_background": "light"
     },
     "output_type": "display_data"
    }
   ],
   "source": [
    "#Prob1.4\n",
    "#Null Hypothesis:\n",
    "#Mean engagement between eng1 and eng0 are different\n",
    "#mean1 != mean0\n",
    "\n",
    "#Alternative Hypothesis\n",
    "#Mean engagement between eng1 and eng0 are the same\n",
    "#mean1 == mean0\n",
    "\n",
    "#Use two sample z-test\n",
    "\n",
    "f = open('engagement_0.txt')\n",
    "data1 = f.readlines()\n",
    "f.close()\n",
    "\n",
    "data0 = [float(x) for x in data1] #data in list form\n",
    "size0 = len(data0) #sample size\n",
    "mean0 = np.mean(data0) #sample mean\n",
    "sd0 = np.std(data0, ddof = 1) #standard deviation\n",
    "\n",
    "print(\"Engagement 1:\")\n",
    "print(\"size:\", size1)\n",
    "print(\"mean:\", mean1)\n",
    "print(\"standard deviation:\", sd1)\n",
    "print()\n",
    "print(\"Engagement 0:\")\n",
    "print(\"size:\", size0)\n",
    "print(\"mean:\", mean0)\n",
    "print(\"standard deviation:\", sd0)\n",
    "print()\n",
    "\n",
    "mu = 0 #hypothesis mean must be 0 if means are equal (mean0 - mean1 == 0)\n",
    "sizeT = size1 + size0\n",
    "meanT = mean1 - mean0 #mean total\n",
    "sdT = np.sqrt(((sd1 ** 2) / size1) + ((sd0 ** 2) / size0)) #standard deviation total\n",
    "seT = sdT / (np.sqrt(sizeT))\n",
    "zT = (meanT - mu) / sdT #zscore total\n",
    "pT = 2 * stats.norm.cdf(-abs(zT)) #pscore\n",
    "\n",
    "print(\"Two-sample z-test:\")\n",
    "print(\"Total Sizes:\", sizeT)\n",
    "print(\"Total Mean:\", meanT)\n",
    "print(\"Total Standard Deviation:\", sdT)\n",
    "print(\"Total Standard Error:\", seT)\n",
    "print(\"Zscore:\", zT)\n",
    "print(\"Pscore:\", pT)\n",
    "\n",
    "#Since p score is very very small, we can conclude that the null hypothesis is supported\n",
    "#Which means mean1 != mean0\n",
    "\n",
    "plt.plot(np.arange(-6, 6, 0.01), stats.norm.pdf(np.arange(-6, 6, 0.01),0, 1))\n",
    "plt.plot(zT, 0, marker = 'o')"
   ]
  },
  {
   "cell_type": "code",
   "execution_count": null,
   "id": "dbca07f4",
   "metadata": {},
   "outputs": [],
   "source": []
  }
 ],
 "metadata": {
  "kernelspec": {
   "display_name": "Python 3 (ipykernel)",
   "language": "python",
   "name": "python3"
  },
  "language_info": {
   "codemirror_mode": {
    "name": "ipython",
    "version": 3
   },
   "file_extension": ".py",
   "mimetype": "text/x-python",
   "name": "python",
   "nbconvert_exporter": "python",
   "pygments_lexer": "ipython3",
   "version": "3.9.6"
  }
 },
 "nbformat": 4,
 "nbformat_minor": 5
}
