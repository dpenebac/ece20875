{
 "cells": [
  {
   "cell_type": "code",
   "execution_count": 37,
   "id": "45566217",
   "metadata": {},
   "outputs": [
    {
     "name": "stdout",
     "output_type": "stream",
     "text": [
      "Mean: -5.833333333333333\n",
      "Standard Error: 5.062987100895912\n",
      "T-test statistic: -1.152152517295789\n",
      "Interval: ( -14.925875005124801 , 3.2592083384581363 )\n"
     ]
    }
   ],
   "source": [
    "import numpy as np\n",
    "import scipy.stats as stats\n",
    "data = [-23, -16, -3, -9, -1, 13, -16, 15, 31, -22, -14, -25]\n",
    "#use t test since n < 30\n",
    "\n",
    "mu = 0\n",
    "size = len(data)\n",
    "mean = np.mean(data)\n",
    "sdt = np.std(data, ddof = 1)\n",
    "se = sdt / (np.sqrt(size))\n",
    "t = mean / se\n",
    "tc = stats.t.ppf(1 - ((1 - .9) / 2), df = size - 1) #90% use t test\n",
    "maxTc = mean + (tc * se)\n",
    "minTc = mean - (tc * se)\n",
    "\n",
    "print(\"Mean:\", mean)\n",
    "print(\"Standard Error:\", se)\n",
    "print(\"T-test statistic:\", t)\n",
    "print(\"Interval: (\", minTc, \",\" , maxTc, \")\")"
   ]
  },
  {
   "cell_type": "code",
   "execution_count": 38,
   "metadata": {},
   "outputs": [
    {
     "name": "stdout",
     "output_type": "stream",
     "text": [
      "Mean: -5.833333333333333\n",
      "Standard Error: 5.062987100895912\n",
      "T-test statistic: -1.152152517295789\n",
      "Interval: ( -16.976892808096625 , 5.31022614142996 )\n"
     ]
    }
   ],
   "source": [
    "\n",
    "tc = stats.t.ppf(1 - ((1 - .95) / 2), df = size - 1) #95% use t test\n",
    "maxTc = mean + (tc * se)\n",
    "minTc = mean - (tc * se)\n",
    "print(\"Mean:\", mean)\n",
    "print(\"Standard Error:\", se)\n",
    "print(\"T-test statistic:\", t)\n",
    "print(\"Interval: (\", minTc, \",\" , maxTc, \")\")"
   ]
  },
  {
   "cell_type": "code",
   "execution_count": 39,
   "metadata": {},
   "outputs": [
    {
     "name": "stdout",
     "output_type": "stream",
     "text": [
      "Mean: -5.833333333333333\n",
      "Standard Error: 4.860134566038269\n",
      "Z-test statistic: -1.200241115564083\n",
      "Interval: ( -15.359022042786545 , 3.69235537611988 )\n"
     ]
    }
   ],
   "source": [
    "sdt = 16.836\n",
    "se = sdt / (np.sqrt(size))\n",
    "z = mean / se\n",
    "zc = stats.norm.ppf(1 - ((1 - .95) / 2)) #95% use normal distribution cause using actual population standard deviation\n",
    "maxTc = mean + (zc * se)\n",
    "minTc = mean - (zc * se)\n",
    "print(\"Mean:\", mean)\n",
    "print(\"Standard Error:\", se)\n",
    "print(\"Z-test statistic:\", z)\n",
    "print(\"Interval: (\", minTc, \",\" , maxTc, \")\")"
   ]
  },
  {
   "cell_type": "code",
   "execution_count": 40,
   "metadata": {},
   "outputs": [
    {
     "name": "stdout",
     "output_type": "stream",
     "text": [
      "Interval: ( -11.66661298382914 , -5.36828375272691e-05 )\n",
      "Confidence Value: 0.769950000001047\n"
     ]
    }
   ],
   "source": [
    "#need to find percent where maxTc is 0 (team is always losing) and that value is the confidence that the team will expect\n",
    "#to lose on average\n",
    "\n",
    "confidence = 1 #100% confidence\n",
    "while(maxTc > 0):\n",
    "    confidence -= 0.00001\n",
    "    tc = stats.norm.ppf(1 - ((1 - confidence) / 2)) #95% use normal distribution cause using actual population standard deviation\n",
    "    maxTc = mean + (tc * se)\n",
    "    minTc = mean - (tc * se)\n",
    "    \n",
    "print(\"Interval: (\", minTc, \",\" , maxTc, \")\")\n",
    "print(\"Confidence Value:\", confidence)"
   ]
  },
  {
   "cell_type": "markdown",
   "metadata": {},
   "source": [
    "Writeup\n",
    "\n",
    "2.1\n",
    "For 90% confidence interval:\n",
    "Using t-test because n < 30.\n",
    "Mean: -5.833333333333333\n",
    "Standard Error: 5.062987100895912\n",
    "T-test statistic: -1.152152517295789\n",
    "Interval: (-14.925875005124801 , 3.2592083384581363)\n",
    "\n",
    "2.2\n",
    "For 95% confidence interval:\n",
    "Using t-test because n < 30.\n",
    "Mean: -5.833333333333333\n",
    "Standard Error: 5.062987100895912\n",
    "T-test statistic: -1.152152517295789\n",
    "Interval: (-16.976892808096625 , 5.31022614142996)\n",
    "\n",
    "The main differences between 95% confidence interval and 90% confidence interval is that the 95% confidence interval has a wider range of values. This is expected because to have a higher confidence in a result, your range of values will be higher to have a higher chance of being correct.\n",
    "\n",
    "2.3\n",
    "For 95% confidence interval\n",
    "Using z-test because it is a normal distribution as we know the standard deviation.\n",
    "Mean: -5.833333333333333\n",
    "Standard Error: 4.860134566038269\n",
    "Z-test statistic: -1.200241115564083\n",
    "Interval: (-15.359022042786545 , 3.69235537611988)\n",
    "\n",
    "The main difference between using the z-test and t-test is that when using the z-test we have a lower standard error along with a lower upper limit for our confidence interval. \n",
    "\n",
    "2.4\n",
    "Using a while loop to increment the confidence percentage value we can find a confidence value where the upper limit for the confidence interval is less than 0, which is the equivalent to the team losing.\n",
    "Interval: ( -11.66661298382914 , -5.36828375272691e-05 )\n",
    "Confidence Value: 0.769950000001047\n",
    "We have a confidence value of about 77% that the team will lose on average. "
   ]
  }
 ],
 "metadata": {
  "interpreter": {
   "hash": "74c33e9d5d7841e4e70f9eb5b31e308c5b06a41f38f3adcf7bb706218ee2a701"
  },
  "kernelspec": {
   "display_name": "Python 3.9.6 64-bit",
   "name": "python3"
  },
  "language_info": {
   "codemirror_mode": {
    "name": "ipython",
    "version": 3
   },
   "file_extension": ".py",
   "mimetype": "text/x-python",
   "name": "python",
   "nbconvert_exporter": "python",
   "pygments_lexer": "ipython3",
   "version": "3.9.6"
  }
 },
 "nbformat": 4,
 "nbformat_minor": 5
}
