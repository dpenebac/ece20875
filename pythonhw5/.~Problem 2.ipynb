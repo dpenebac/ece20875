{
 "cells": [
  {
   "cell_type": "code",
   "execution_count": 30,
   "id": "45566217",
   "metadata": {},
   "outputs": [
    {
     "name": "stdout",
     "output_type": "stream",
     "text": [
      "1.7958848187036691 -14.925875005124801 3.2592083384581363\n",
      "\n",
      "2.200985160082949 -16.976892808096625 5.31022614142996\n",
      "\n",
      "2.200985160082949 -16.530417389189747 4.86375072252308\n",
      "\n"
     ]
    }
   ],
   "source": [
    "import numpy as np\n",
    "import scipy.stats as stats\n",
    "data = [-23, -16, -3, -9, -1, 13, -16, 15, 31, -22, -14, -25]\n",
    "#use t test since n < 30\n",
    "\n",
    "mu = 0\n",
    "size = len(data)\n",
    "mean = np.mean(data)\n",
    "sdt = np.std(data, ddof = 1)\n",
    "se = sdt / (np.sqrt(size))\n",
    "t = mean / se\n",
    "tc = stats.t.ppf(1 - ((1 - .9) / 2), df = size - 1) #90%\n",
    "maxTc = mean + (tc * se)\n",
    "minTc = mean - (tc * se)\n",
    "print(tc,minTc, maxTc)\n",
    "print()\n",
    "\n",
    "tc = stats.t.ppf(1 - ((1 - .95) / 2), df = size - 1) #95%\n",
    "maxTc = mean + (tc * se)\n",
    "minTc = mean - (tc * se)\n",
    "print(tc,minTc, maxTc)\n",
    "print()\n",
    "\n",
    "sdt = 16.836\n",
    "se = sdt / (np.sqrt(size))\n",
    "t = mean / se\n",
    "tc = stats.t.ppf(1 - ((1 - .95) / 2), df = size - 1) #95%\n",
    "maxTc = mean + (tc * se)\n",
    "minTc = mean - (tc * se)\n",
    "print(tc,minTc, maxTc)\n",
    "print()"
   ]
  },
  {
   "cell_type": "code",
   "execution_count": null,
   "id": "b04ab908",
   "metadata": {},
   "outputs": [],
   "source": []
  }
 ],
 "metadata": {
  "interpreter": {
   "hash": "74c33e9d5d7841e4e70f9eb5b31e308c5b06a41f38f3adcf7bb706218ee2a701"
  },
  "kernelspec": {
   "display_name": "Python 3.9.6 64-bit",
   "name": "python3"
  },
  "language_info": {
   "codemirror_mode": {
    "name": "ipython",
    "version": 3
   },
   "file_extension": ".py",
   "mimetype": "text/x-python",
   "name": "python",
   "nbconvert_exporter": "python",
   "pygments_lexer": "ipython3",
   "version": "3.9.6"
  }
 },
 "nbformat": 4,
 "nbformat_minor": 5
}
